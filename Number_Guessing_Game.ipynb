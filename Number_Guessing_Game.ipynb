{
  "nbformat": 4,
  "nbformat_minor": 0,
  "metadata": {
    "colab": {
      "provenance": [],
      "gpuType": "T4",
      "authorship_tag": "ABX9TyNscoSV93K2bivanzGw7c+r",
      "include_colab_link": true
    },
    "kernelspec": {
      "name": "python3",
      "display_name": "Python 3"
    },
    "language_info": {
      "name": "python"
    },
    "accelerator": "GPU"
  },
  "cells": [
    {
      "cell_type": "markdown",
      "metadata": {
        "id": "view-in-github",
        "colab_type": "text"
      },
      "source": [
        "<a href=\"https://colab.research.google.com/github/ayuubkhan/Number-Guessing-Game/blob/main/Number_Guessing_Game.ipynb\" target=\"_parent\"><img src=\"https://colab.research.google.com/assets/colab-badge.svg\" alt=\"Open In Colab\"/></a>"
      ]
    },
    {
      "cell_type": "code",
      "execution_count": 2,
      "metadata": {
        "colab": {
          "base_uri": "https://localhost:8080/"
        },
        "id": "01y4fLiuD0Z3",
        "outputId": "6535267b-db3b-4d4a-fc45-7255addf939a"
      },
      "outputs": [
        {
          "output_type": "stream",
          "name": "stdout",
          "text": [
            "🎯 Welcome to the Number Guessing Game!\n",
            "Choose a difficulty (easy/medium/hard): hard\n",
            "You will get only 5 attempts\n",
            "Enter a guess between 1 and 15: 6\n",
            "Too High! Try again.\n",
            "4 remaining\n",
            "Enter a guess between 1 and 15: 4\n",
            "Correct! You guesses it in 2 attempts.\n"
          ]
        }
      ],
      "source": [
        "from logging import currentframe\n",
        "import random\n",
        "\n",
        "print(\"🎯 Welcome to the Number Guessing Game!\")\n",
        "\n",
        "difficulty = input(\"Choose a difficulty (easy/medium/hard): \").lower()\n",
        "if difficulty == \"easy\":\n",
        "  max_attempts = 10\n",
        "elif difficulty == \"medium\":\n",
        "  max_attempts = 7\n",
        "elif difficulty == \"hard\":\n",
        "  max_attempts = 5\n",
        "\n",
        "curr_attempts = max_attempts\n",
        "\n",
        "# Step 1: AI picks a number between 1 to 10\n",
        "secret_number = random.randint(1, 15)\n",
        "\n",
        "# Step 2: Keep track of guesses\n",
        "guess = None\n",
        "attempts = 0\n",
        "\n",
        "print(f\"You will get only {max_attempts} attempts\")\n",
        "\n",
        "# Step 3: Loop until the player guesses correctly\n",
        "while guess != secret_number and attempts < max_attempts:\n",
        "  guess = int(input(\"Enter a guess between 1 and 15: \"))\n",
        "  attempts += 1\n",
        "  curr_attempts -= 1\n",
        "\n",
        "  if attempts == max_attempts and guess != secret_number:\n",
        "    print(f\"Sorry, you've run out of attempts. The secret number was {secret_number}.\")\n",
        "    print(\"Thanks for playing\")\n",
        "    break\n",
        "\n",
        "  if guess < secret_number:\n",
        "    print(\"Too Low! Try again.\")\n",
        "    print(f\"{curr_attempts} remaining\")\n",
        "  elif guess > secret_number:\n",
        "    print(\"Too High! Try again.\")\n",
        "    print(f\"{curr_attempts} remaining\")\n",
        "  else:\n",
        "    print(f\"Correct! You guesses it in {attempts} attempts.\")\n",
        "\n",
        "\n",
        "\n"
      ]
    }
  ]
}